{
 "cells": [
  {
   "cell_type": "markdown",
   "metadata": {
    "id": "Htm5D9RhL994"
   },
   "source": [
    "### Homework Assignment #4\n",
    "\n",
    "#### Question 1: Convolution Theorem\n",
    "\n",
    "**a. Convolution in Fourier Space**: Prove that the Fourier transform of the convolution of two functions $f$ and $g$, denoted as $\\mathcal{F}(f \\star g)$, equals the pointwise product of their Fourier transforms:  \n",
    "$$\n",
    "\\mathcal{F}(f \\star g) = \\mathcal{F}(f) \\cdot \\mathcal{F}(g)\n",
    "$$  \n",
    "Specify whether your proof is for continuous functions or discrete signals and clearly state any assumptions made."
   ]
  },
  {
   "cell_type": "markdown",
   "metadata": {},
   "source": [
    "## Answer question 1:\n",
    "Define convolution on real continuous function:\n",
    "$$\n",
    "f(t)\\star g(t) = \\int_{-\\infty}^{\\infty} f(t-s)g(s)ds\n",
    "$$\n",
    "Define fourier transform on real continuous function:\n",
    "$$\n",
    "\\mathcal{F}(f)(u)  = \\hat f (u) = \\int_{-\\infty}^{\\infty} f(t) e^{-2i\\pi ut} dt\n",
    "$$\n",
    "Assume $lim_{t->\\pm\\infty} f(t)\\star g(t) = 0$ <br>\n",
    "Now we will apply fourier transform on a convolution of two real continuous function:\n",
    "$$\n",
    "\\mathcal{F}(f \\star g)(u) =  \\int_{-\\infty}^{\\infty} \\int_{-\\infty}^{\\infty} f(t-s)g(s) \\space e^{-2i\\pi ut} dsdt\n",
    "$$\n",
    "We can flip the integration order\n",
    "$$\n",
    "\\int_{-\\infty}^{\\infty} \\int_{-\\infty}^{\\infty} f(t-s)g(s) \\space e^{-2i\\pi ut} dsdt =\n",
    "\\int_{-\\infty}^{\\infty} \\int_{-\\infty}^{\\infty} f(t-s)g(s) \\space e^{-2i\\pi ut} dtds\n",
    "$$\n",
    "Now we can factor out $g(s)$ out of the integration by $t$\n",
    "$$\n",
    "\\int_{-\\infty}^{\\infty} \\int_{-\\infty}^{\\infty} f(t-s)g(s) \\space e^{-2i\\pi ut} dtds=\n",
    "\\int_{-\\infty}^{\\infty} g(s)\\int_{-\\infty}^{\\infty} f(t-s) \\space e^{-2i\\pi ut} dtds = \n",
    "\\int_{-\\infty}^{\\infty} g(s)\\textcolor{orange}{\\left(\\int_{-\\infty}^{\\infty} f(t-s) \\space e^{-2i\\pi ut} dt\\right) }ds\n",
    "$$\n",
    "We know that:\n",
    "$$\n",
    "\\textcolor{orange}{\\int_{-\\infty}^{\\infty} f(t-s) \\space e^{-2i\\pi ut} dt = e^{-2\\pi i su} \\hat f(u) }\n",
    "$$\n",
    "(fourier transform with time shift and scaling) <br>\n",
    "Now we will plug it in our original equation:\n",
    "$$\n",
    "\\int_{-\\infty}^{\\infty} g(s)\\textcolor{orange}{\\left(\\int_{-\\infty}^{\\infty} f(t-s) \\space e^{-2i\\pi ut} dt\\right) }ds =\n",
    "\\int_{-\\infty}^{\\infty} g(s) \\textcolor{orange}{e^{-2\\pi i su} \\hat f(u)} ds=\n",
    "\\hat f(u)\\int_{-\\infty}^{\\infty} g(s) e^{-2\\pi i su} ds\n",
    "$$\n",
    "But,\n",
    "$$\n",
    "\\textcolor{red}{\\int_{-\\infty}^{\\infty} g(s) e^{-2\\pi i su} ds = \\hat g (u)}\n",
    "$$\n",
    "So our original equation becomes:\n",
    "$$\n",
    "\\hat f(u)\\textcolor{red}{\\int_{-\\infty}^{\\infty} g(s) e^{-2\\pi i su} ds} =\n",
    "\\boxed{\\hat f (u) \\cdot \\hat g (u) = \\mathcal{F}(f) \\cdot \\mathcal{F}(g)}\n",
    "$$\n",
    "So we get that:\n",
    "$$\n",
    "\\boxed{\\mathcal{F}(f \\star g) = \\mathcal{F}(f) \\cdot \\mathcal{F}(g)}\n",
    "$$\n",
    "\n",
    "----------------------"
   ]
  },
  {
   "cell_type": "markdown",
   "metadata": {},
   "source": [
    "## Answer question 2:\n",
    "**a. Commutativity**: <br>\n",
    "Prove that the convolution operation is commutative:\n",
    "$$\n",
    "f \\star g = g \\star f\n",
    "$$\n",
    "$$\n",
    "f \\star g = \\int_{-\\infty}^{\\infty} f(x-s)g(s)ds\n",
    "$$\n",
    "Substitute $s = x-u$ and $ds = -du$ and the bounds switch:\n",
    "$$\n",
    "= \\int_{\\infty}^{-\\infty} -f(u)g(x-u)du = \\int_{-\\infty}^{\\infty} f(u)g(x-u)du = \\boxed{g \\star f}\n",
    "$$\n",
    "Therefore:\n",
    "$$\n",
    "\\boxed{f \\star g = g \\star f}\n",
    "$$\n",
    "**b. Distributivity**: <br>\n",
    "Prove the distributive property of convolution:\n",
    "$$\n",
    "f \\star (\\alpha g + \\beta h) = \\alpha (f \\star g) + \\beta (f \\star h),\n",
    "$$  \n",
    "We shall open $f \\star (\\alpha g + \\beta h)$ by definition\n",
    "$$\n",
    "f \\star (\\alpha g + \\beta h) = \\int_{-\\infty}^{\\infty} f(x-s)(\\alpha g(s) + \\beta h(s))ds\n",
    "$$\n",
    "$$\n",
    "= \\int_{-\\infty}^{\\infty} \\alpha f(x-s) g(s) + \\beta f(x-s) h(s) ds\n",
    "$$\n",
    "$$\n",
    "= \\int_{-\\infty}^{\\infty} \\alpha f(x-s) g(s)ds + \\int_{-\\infty}^{\\infty}\\beta f(x-s) h(s) ds\n",
    "$$\n",
    "$$\n",
    "= \\alpha\\int_{-\\infty}^{\\infty} f(x-s) g(s)ds +\\beta \\int_{-\\infty}^{\\infty} f(x-s) h(s) ds\n",
    "$$\n",
    "$$\n",
    "\\boxed{= \\alpha(f \\star g) +\\beta (f \\star h)}\n",
    "$$\n",
    "**c. Shift Equivariance**: <br>\n",
    "Prove that convolution is shift-invariant:  \n",
    "$$\n",
    "f(x) \\star g(x - d) = (f \\star g)(x - d).\n",
    "$$\n",
    "Define:\n",
    "$$\n",
    "h(x) = g(x-d)\n",
    "$$\n",
    "Apply convolution to $h(x)$ and $f(x)$:\n",
    "$$\n",
    "f(x) \\star h(x) = \\int_{-\\infty}^{\\infty} f(s)h(x-s)ds\n",
    "$$\n",
    "Now we substitute $t = x-d$ so $h(x) = g(t)$:\n",
    "$$\n",
    "= \\int_{-\\infty}^{\\infty} f(s)g(t-s)ds = (f \\star g)(t) = \\boxed{(f \\star g)(x - d)}\n",
    "$$\n",
    "Therefore:\n",
    "$$\n",
    "\\boxed{f(x) \\star g(x - d) = (f \\star g)(x - d)}\n",
    "$$\n",
    "**d. Scaling Property**: <br>\n",
    "Prove that if a function $ f(x) $ is scaled in its argument by a factor $ a > 0 $, then its convolution with a function $ g(x) $ satisfies:  \n",
    "$$\n",
    "f(ax) \\star g(ax) = \\frac{1}{a} \\big(f \\star g\\big)(ax).\n",
    "$$\n",
    "We will open $f(ax) \\star g(ax)$ by definition:\n",
    "$$\n",
    "f(ax) \\star g(ax) = \\int_{-\\infty}^{\\infty} f(ax-as)g(as)ds\n",
    "$$\n",
    "Now we substitute: $u = as \\rightarrow ds = \\frac{du}{a}$ \n",
    "$$\n",
    "\\int_{-\\infty}^{\\infty} f(ax-as)g(as)ds = \n",
    "\\frac{1}{a}\\int_{-\\infty}^{\\infty} f(ax-u)g(u)ds\n",
    "\\boxed{= \\frac{1}{a} \\big(f \\star g\\big)(ax)}\n",
    "$$\n",
    "So we got:\n",
    "$$\n",
    "\\boxed{f(ax) \\star g(ax) = \\frac{1}{a} \\big(f \\star g\\big)(ax)}\n",
    "$$"
   ]
  },
  {
   "cell_type": "markdown",
   "metadata": {},
   "source": [
    "#### Question 3: Derivative and Inverse of Convolution\n",
    "\n",
    "**a. Derivative of Convolution**: Derive the expression for the derivative of the convolution $ f(x) \\star g(x) $:  \n",
    "$$\n",
    "\\frac{d}{dx} \\big(f(x) \\star g(x)\\big).\n",
    "$$  \n",
    "Verify this property for specific functions of your choice, such as $ f(x) = e^{-x^2} $ and $ g(x) = \\sin(x) $.\n",
    "\n",
    "**b. Inverse of Convolution**: Discuss the conditions under which the convolution $ f(x) \\star g(x) $ can be inverted. Derive the theoretical framework for deconvolution or solving for $ f(x) $ or $ g(x) $ given their convolution.\n"
   ]
  },
  {
   "cell_type": "markdown",
   "metadata": {},
   "source": [
    "## Answer question 3:\n",
    "**a. Derivative of Convolution**:\n",
    "We will expand convolution by definition\n",
    "$$\n",
    "\\frac{d}{dx} \\big(f(x) \\star g(x)\\big) = \\frac{d}{dx}\\int^{\\infty}_{-\\infty}(f(x-s)g(s))ds\n",
    "$$\n",
    "Integral is a linear operator so we can insert the derivative in it:\n",
    "$$\n",
    "\\frac{d}{dx}\\int^{\\infty}_{-\\infty}(f(x-s)g(s))ds = \\int^{\\infty}_{-\\infty}\\frac{d}{dx}(f(x-s)g(s))ds\n",
    "$$\n",
    "$$\n",
    "= \\int^{\\infty}_{-\\infty} f'(x-s)g(s)ds = \\boxed{f'(x) \\star g(x)}\n",
    "$$\n",
    "So from commutativity we get:\n",
    "$$\n",
    "\\boxed{\\frac{d}{dx} \\big(f(x) \\star g(x)\\big) = f'(x) \\star g(x) = f(x) \\star g'(x)}\n",
    "$$\n",
    "Example:<br>\n",
    "Let:\n",
    "$$\n",
    "f(x) = x\n",
    "$$\n",
    "$$\n",
    "g(x) = e^{-x^2}\n",
    "$$\n",
    "First we know that\n",
    "$$\n",
    "\\int^{\\infty}_{-\\infty} e^{-x^2} dx = \\sqrt \\pi\n",
    "$$\n",
    "Now lets apply convolution:\n",
    "$$\n",
    "\\frac{d}{dx} (f(x) \\star g(x)) = \\frac{d}{dx}(x \\star e^{-x^2}) =\\textcolor{orange}{\\frac{d}{dx} \\int^{\\infty}_{-\\infty}(x-s)e^{-s^2}ds}\n",
    "$$\n",
    "First we will solve without the identity:\n",
    "$$\n",
    "\\textcolor{orange}{\\frac{d}{dx} \\int^{\\infty}_{-\\infty}(x-s)e^{-s^2}ds} = \\frac{d}{dx} \\int^{\\infty}_{-\\infty}xe^{-s^2} - se^{-s^2}ds\n",
    "$$\n",
    "Separate to 2 integrals\n",
    "$$\n",
    "\\frac{d}{dx} \\big(\\int^{\\infty}_{-\\infty}xe^{-s^2}ds - \\int^{\\infty}_{-\\infty}se^{-s^2}se^{-s^2}ds\\big)\n",
    "$$\n",
    "$$\n",
    "= \\frac{d}{dx} (\\int^{\\infty}_{-\\infty}xe^{-s^2}ds) + \\frac{d}{dx} (\\int^{\\infty}_{-\\infty}-se^{-s^2}ds)\n",
    "$$\n",
    "$$\n",
    "= \\frac{d}{dx} (x\\textcolor{lightgreen}{\\int^{\\infty}_{-\\infty}e^{-s^2}ds}) +\n",
    "\\frac{d}{dx} (\\frac{1}{2}\\int^{\\infty}_{-\\infty}\\textcolor{lightblue}{-2se^{-s^2}}ds)\n",
    "$$\n",
    "We know $\\textcolor{lightgreen}{\\int^{\\infty}_{-\\infty}e^{-s^2}ds = \\sqrt \\pi}$ and we know $\\textcolor{lightblue}{-2se^{-s^2}= (e^{-s^2})'}$:\n",
    "$$\n",
    "= \\frac{d}{dx} (x\\textcolor{lightgreen}{\\sqrt \\pi}) +\n",
    "\\frac{d}{dx} (\\frac{1}{2}\\int^{\\infty}_{-\\infty}\\textcolor{lightblue}{(e^{-s^2})'}ds)\n",
    "$$\n",
    "$$\n",
    "= \\frac{d}{dx} (x\\sqrt \\pi) + \\frac{d}{dx} (\\frac{1}{2} (e^{-s^2})\\Big|_{-\\infty}^{\\infty}) = \\frac{d}{dx} (x\\sqrt \\pi) = \\boxed{\\sqrt \\pi}\n",
    "$$\n",
    "Now we shall solve with the identity proven in question 3 a:\n",
    "$$\n",
    "\\textcolor{orange}{\\frac{d}{dx} \\int^{\\infty}_{-\\infty}(x-s)e^{-s^2}ds} = \\int^{\\infty}_{-\\infty}\\frac{d}{dx}(x-s)e^{-s^2}ds\n",
    "$$\n",
    "$$\n",
    "= \\int^{\\infty}_{-\\infty}e^{-s^2}ds = \\boxed{\\sqrt \\pi}\n",
    "$$\n",
    "**b. Inverse of Convolution**:<br>\n",
    "Assume $f$ and $g$ have a fourier transfrom and an inverse fourier transfrom<br>\n",
    "We proved in question 1 that:\n",
    "$$\n",
    "\\mathcal{F}(f \\star g) = \\mathcal{F}(f) \\cdot \\mathcal{F}(g)\n",
    "$$\n",
    "Now if we know $g(x)$ and its fourier transform, we can divide $\\mathcal{F}(f) \\cdot \\mathcal{F}(g)$ by $\\mathcal{F}(g)$ and get $\\mathcal{F}(f)$<br>\n",
    "Then, all we have to do is apply the inverse fourier transform of $f$ to get our original $f$"
   ]
  },
  {
   "cell_type": "markdown",
   "metadata": {},
   "source": [
    "#### Question 4 (Optional, Coding): Practical Verification of Convolution Properties\n",
    "\n",
    "**a. Implementation**: Implement the convolution operation using Python (e.g., PyTorch or NumPy) and verify the properties discussed in Question 2 for specific example functions $ f(x) $ and $ g(x) $.  \n",
    "\n",
    "**b. Fourier Transform Connection**: Use the Fourier transform to verify the convolution theorem numerically. Show that $ \\mathcal{F}(f \\star g) = \\mathcal{F}(f) \\cdot \\mathcal{F}(g) $ for your chosen functions $ f(x) $ and $ g(x) $.\n",
    "\n",
    "**c. Applications**: Briefly explain how these properties are utilized in convolutional neural networks (CNNs)."
   ]
  },
  {
   "cell_type": "markdown",
   "metadata": {},
   "source": [
    "# 4.a:"
   ]
  },
  {
   "cell_type": "code",
   "execution_count": 317,
   "metadata": {},
   "outputs": [],
   "source": [
    "import numpy as np\n",
    "np.set_printoptions(suppress=True,precision=2)"
   ]
  },
  {
   "cell_type": "code",
   "execution_count": 318,
   "metadata": {},
   "outputs": [],
   "source": [
    "#defining functions and convolution\n",
    "def f(x,scale=1):\n",
    "    return x*scale\n",
    "def g(x,scale=1):\n",
    "    return np.exp(-((scale*x)**2))\n",
    "def h(x,scale=1):\n",
    "    return np.sin(x)\n",
    "def f2(x,scale=1):\n",
    "    if x == 0: return 1\n",
    "    return np.sin(x)/x\n",
    "alpha = 4\n",
    "beta = 7\n",
    "def alpha_g_beta_h(x,scale=1):\n",
    "    return alpha*g(x) + beta*h(x)\n",
    "def convolution(f1,g1,scale=1,shift=0):\n",
    "    fx = np.array([f1(x,scale) for x in range(-100//scale,100//scale)])\n",
    "    gx = np.array([g1((x-shift),scale) for x in range(-100//scale,100//scale)])\n",
    "    return np.convolve(fx,gx,mode='same')"
   ]
  },
  {
   "cell_type": "code",
   "execution_count": 319,
   "metadata": {},
   "outputs": [
    {
     "name": "stdout",
     "output_type": "stream",
     "text": [
      "avg error percent:\n",
      " 1.3991115713518514\n",
      "avg error percent without the last and first 3 numbers:\n",
      " 0.29660412052608526\n"
     ]
    }
   ],
   "source": [
    "def check_convolution():\n",
    "    # we know the convolution of our f and g is x*sqrt(pi) (calculated in 3a)\n",
    "    conv = convolution(f,g)\n",
    "    # print(np.round(conv/np.sqrt(np.pi),1)) # should output [-99,-98,-97,...,-1,0,1,...97,98,99]\n",
    "    diff = np.abs(conv/np.sqrt(np.pi) - [x for x in range(-101,99)])\n",
    "    print(\"avg error percent:\\n\",100*(np.sum(diff/np.abs(conv))/(diff.shape[0])))\n",
    "    print(\"avg error percent without the last and first 3 numbers:\\n\",100*(np.sum(diff[3:-3]/np.abs(conv[3:-3]))/(diff.shape[0]-6)))\n",
    "check_convolution()"
   ]
  },
  {
   "cell_type": "code",
   "execution_count": 320,
   "metadata": {},
   "outputs": [
    {
     "name": "stdout",
     "output_type": "stream",
     "text": [
      "avg error percent:\n",
      " 6.66377095854946e-15\n"
     ]
    }
   ],
   "source": [
    "def check_Commutativity():\n",
    "    conv1 = convolution(f,g)\n",
    "    conv2 = convolution(g,f)\n",
    "    diff = np.abs(conv1 - conv2)\n",
    "    print(\"avg error percent:\\n\",100*(np.sum(diff/(np.abs(conv1)+0.01))/diff.shape[0]))\n",
    "check_Commutativity()"
   ]
  },
  {
   "cell_type": "code",
   "execution_count": 321,
   "metadata": {},
   "outputs": [
    {
     "name": "stdout",
     "output_type": "stream",
     "text": [
      "avg error percent:\n",
      " 1.5594857256517775e-13\n"
     ]
    }
   ],
   "source": [
    "def check_Distributivity():\n",
    "    conv1 = convolution(f,alpha_g_beta_h)\n",
    "    conv2 = alpha*convolution(f,g) + beta*convolution(f,h)\n",
    "    diff = np.abs(conv1 - conv2)\n",
    "    print(\"avg error percent:\\n\",100*(np.sum(diff/(np.abs(conv1)+0.01))/diff.shape[0]))\n",
    "check_Distributivity()"
   ]
  },
  {
   "cell_type": "code",
   "execution_count": 322,
   "metadata": {},
   "outputs": [
    {
     "name": "stdout",
     "output_type": "stream",
     "text": [
      "avg error percent:\n",
      " 3.687437316047474e-15\n"
     ]
    }
   ],
   "source": [
    "def check_Shift_Equivariance():\n",
    "    conv1 = convolution(f,g,shift=2)\n",
    "    conv2 = convolution(f,g)\n",
    "    diff = np.abs(conv1[2:] - conv2[:-2])\n",
    "    print(\"avg error percent:\\n\",100*(np.sum(diff/(np.abs(conv1[2:])+0.01))/diff.shape[0]))\n",
    "check_Shift_Equivariance()"
   ]
  },
  {
   "cell_type": "code",
   "execution_count": 323,
   "metadata": {},
   "outputs": [
    {
     "name": "stdout",
     "output_type": "stream",
     "text": [
      "avg error percent:\n",
      " 3.374612494259136e-08\n"
     ]
    }
   ],
   "source": [
    "def check_Scaling_Property():\n",
    "    conv1 = convolution(f,g)\n",
    "    conv2 = convolution(f,g)\n",
    "    diff = np.abs(conv1[77:126] - (1/4)*conv2[5::4])\n",
    "    print(\"avg error percent:\\n\",100*(np.sum(diff/(np.abs(conv2[5::4])+0.01))/diff.shape[0]))\n",
    "check_Scaling_Property()"
   ]
  },
  {
   "cell_type": "markdown",
   "metadata": {},
   "source": [
    "# 4.b"
   ]
  },
  {
   "cell_type": "code",
   "execution_count": 324,
   "metadata": {},
   "outputs": [],
   "source": [
    "def FT(f): #fourier transform for functions\n",
    "    fx = np.array([f(x) for x in range(-100,100)])\n",
    "    return np.abs(np.fft.fft(fx))"
   ]
  },
  {
   "cell_type": "code",
   "execution_count": 325,
   "metadata": {},
   "outputs": [
    {
     "name": "stdout",
     "output_type": "stream",
     "text": [
      "avg absolute error:\n",
      " 0.00919327058646418\n"
     ]
    }
   ],
   "source": [
    "def check_fourier__transform_connection():\n",
    "    conv = convolution(f2,g)\n",
    "    FT_f2 = FT(f2)\n",
    "    FT_g = FT(g)\n",
    "    FT_conv = np.abs(np.fft.fft(conv))\n",
    "    diff = np.abs(FT_f2*FT_g - FT_conv)\n",
    "    print(\"avg absolute error:\\n\",(np.sum(diff))/diff.shape[0]) #i did absolute error since half of the values were small so the rounding error was reletivly high\n",
    "    # print(FT_conv)\n",
    "    # print(FT_f2*FT_g)\n",
    "check_fourier__transform_connection()"
   ]
  },
  {
   "cell_type": "markdown",
   "metadata": {},
   "source": [
    "# 4.c <br>"
   ]
  },
  {
   "cell_type": "markdown",
   "metadata": {},
   "source": [
    "Said properties can be utilized in CNNs to add more convolutions without a lot more calculations <br>\n",
    "For examle: if we have kernal $g$ and kernal $h$, we can add a channel with kernal $g + h$ and because of distributivity <br>\n",
    "we can simply add the first channel to the second channel and get a third channel without calculating a new convolution on the original input"
   ]
  }
 ],
 "metadata": {
  "colab": {
   "provenance": []
  },
  "kernelspec": {
   "display_name": "Python 3",
   "name": "python3"
  },
  "language_info": {
   "codemirror_mode": {
    "name": "ipython",
    "version": 3
   },
   "file_extension": ".py",
   "mimetype": "text/x-python",
   "name": "python",
   "nbconvert_exporter": "python",
   "pygments_lexer": "ipython3",
   "version": "3.9.0"
  }
 },
 "nbformat": 4,
 "nbformat_minor": 0
}
